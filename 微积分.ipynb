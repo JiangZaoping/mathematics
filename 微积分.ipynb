{
  "cells": [
    {
      "cell_type": "markdown",
      "metadata": {
        "colab_type": "text",
        "id": "view-in-github"
      },
      "source": [
        "<a href=\"https://colab.research.google.com/github/JiangZaoping/mathematics/blob/master/%E5%BE%AE%E7%A7%AF%E5%88%86.ipynb\" target=\"_parent\"><img src=\"https://colab.research.google.com/assets/colab-badge.svg\" alt=\"Open In Colab\"/></a>"
      ]
    },
    {
      "cell_type": "code",
      "execution_count": null,
      "metadata": {
        "colab": {
          "base_uri": "https://localhost:8080/"
        },
        "id": "1WXymLMg1Mcs",
        "outputId": "2397e172-d62b-402d-9f4f-fbad0a776984"
      },
      "outputs": [
        {
          "data": {
            "text/plain": [
              "array([0.72528761, 0.54804175, 0.15790047, 0.63013551, 0.18207222,\n",
              "       0.46237862, 0.08906452, 0.02984179, 0.04029884, 0.53622492])"
            ]
          },
          "execution_count": 4,
          "metadata": {},
          "output_type": "execute_result"
        }
      ],
      "source": [
        "import numpy as np\n",
        "\n",
        "s = np.random.random(10)\n",
        "\n",
        "arr = np.array([\n",
        "    [1,2],\n",
        "    [2,4],\n",
        "    [4,5]\n",
        "])"
      ]
    }
  ],
  "metadata": {
    "colab": {
      "authorship_tag": "ABX9TyOILCIOStj+qT/TC1RSJhmu",
      "include_colab_link": true,
      "provenance": []
    },
    "kernelspec": {
      "display_name": "Python 3",
      "name": "python3"
    },
    "language_info": {
      "name": "python"
    }
  },
  "nbformat": 4,
  "nbformat_minor": 0
}
