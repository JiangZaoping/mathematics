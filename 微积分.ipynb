{
  "nbformat": 4,
  "nbformat_minor": 0,
  "metadata": {
    "colab": {
      "provenance": [],
      "authorship_tag": "ABX9TyOILCIOStj+qT/TC1RSJhmu",
      "include_colab_link": true
    },
    "kernelspec": {
      "name": "python3",
      "display_name": "Python 3"
    },
    "language_info": {
      "name": "python"
    }
  },
  "cells": [
    {
      "cell_type": "markdown",
      "metadata": {
        "id": "view-in-github",
        "colab_type": "text"
      },
      "source": [
        "<a href=\"https://colab.research.google.com/github/JiangZaoping/mathematics/blob/master/%E5%BE%AE%E7%A7%AF%E5%88%86.ipynb\" target=\"_parent\"><img src=\"https://colab.research.google.com/assets/colab-badge.svg\" alt=\"Open In Colab\"/></a>"
      ]
    },
    {
      "cell_type": "code",
      "execution_count": null,
      "metadata": {
        "colab": {
          "base_uri": "https://localhost:8080/"
        },
        "id": "1WXymLMg1Mcs",
        "outputId": "2397e172-d62b-402d-9f4f-fbad0a776984"
      },
      "outputs": [
        {
          "output_type": "execute_result",
          "data": {
            "text/plain": [
              "array([0.72528761, 0.54804175, 0.15790047, 0.63013551, 0.18207222,\n",
              "       0.46237862, 0.08906452, 0.02984179, 0.04029884, 0.53622492])"
            ]
          },
          "metadata": {},
          "execution_count": 4
        }
      ],
      "source": [
        "import numpy as np\n",
        "\n",
        "s = np.random.random(10)\n",
        "s"
      ]
    }
  ]
}